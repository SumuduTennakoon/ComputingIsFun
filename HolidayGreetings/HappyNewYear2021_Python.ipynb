{
 "cells": [
  {
   "cell_type": "markdown",
   "metadata": {},
   "source": [
    "# Happy Newy Year 2021\n",
    "## With Python\n",
    "Author: Sumudu Tennakoon\\\n",
    "Created Date: 2021-01-01"
   ]
  },
  {
   "cell_type": "markdown",
   "metadata": {},
   "source": [
    "## Goal\n",
    "To create a New Year Greeting Card to display in the console/terminal \n",
    "* Displayingthe message \"HAPPY NEW YEAR 2021\".\n",
    "* Decorating borders as top and bottom are Diamonds, left and right are Stars\n",
    "* Using hearts to fill the gaps of consucutive Spaces\n",
    "* Colors: top and bottom borders are in red, message lines including side bornders are blue, green and yellow."
   ]
  },
  {
   "cell_type": "markdown",
   "metadata": {},
   "source": [
    "## Task 1: Setup Characters"
   ]
  },
  {
   "cell_type": "code",
   "execution_count": 2,
   "metadata": {},
   "outputs": [
    {
     "name": "stdout",
     "output_type": "stream",
     "text": [
      "HAPPY NEWY YEAR 2021\n",
      "Message Length (charcters) =  20\n"
     ]
    }
   ],
   "source": [
    "Message = \"Happy Newy Year 2021\"\n",
    "# Convert to upper case\n",
    "Message = Message.upper()\n",
    "print(Message)\n",
    "print(\"Message Length (charcters) = \", len(Message))"
   ]
  },
  {
   "cell_type": "code",
   "execution_count": 4,
   "metadata": {},
   "outputs": [
    {
     "name": "stdout",
     "output_type": "stream",
     "text": [
      "Number of unique charcters =  12\n",
      "{'A', 'E', '0', '1', 'P', 'N', 'W', 'R', 'H', '2', 'Y', ' '}\n"
     ]
    }
   ],
   "source": [
    "# Find Unique Charcters\n",
    "Charcters = set(Message)\n",
    "print(\"Number of unique charcters = \", len(Charcters))\n",
    "print(Charcters)"
   ]
  },
  {
   "cell_type": "markdown",
   "metadata": {},
   "source": [
    "We found \"HAPPY NEWY YEAR 2021\" is made of 12 unique charcters including space"
   ]
  },
  {
   "cell_type": "markdown",
   "metadata": {},
   "source": [
    "### Let's setup those unique charcters display ready.\n",
    "The choosen grid for single charcter is 5 x 5"
   ]
  },
  {
   "cell_type": "code",
   "execution_count": 5,
   "metadata": {},
   "outputs": [],
   "source": [
    "H = \"\"\"\n",
    "#   #\n",
    "#   #\n",
    "#####\n",
    "#   #\n",
    "#   #\n",
    "\"\"\";\n",
    "\n",
    "A = \"\"\"\n",
    " ### \n",
    "#   #\n",
    "#####\n",
    "#   #\n",
    "#   #\n",
    "\"\"\";\n",
    "\n",
    "P = \"\"\"\n",
    "#### \n",
    "#   #\n",
    "#### \n",
    "#    \n",
    "#    \n",
    "\"\"\";\n",
    "\n",
    "Y = \"\"\"\n",
    "#   #\n",
    " # # \n",
    "  #  \n",
    "  #  \n",
    "  #  \n",
    "\"\"\";\n",
    "\n",
    "N = \"\"\"\n",
    "#   #\n",
    "##  #\n",
    "# # #\n",
    "#  ##\n",
    "#   #\n",
    "\"\"\";\n",
    "\n",
    "E = \"\"\"\n",
    "#####\n",
    "#    \n",
    "#####\n",
    "#    \n",
    "#####\n",
    "\"\"\";\n",
    "\n",
    "W = \"\"\"\n",
    "#   #\n",
    "#   #\n",
    "# # #\n",
    "## ##\n",
    "#   #\n",
    "\"\"\";\n",
    "\n",
    "R = \"\"\"\n",
    "#### \n",
    "#   #\n",
    "#### \n",
    "#  # \n",
    "#   #\n",
    "\"\"\";\n",
    "\n",
    "space = \"\"\"\n",
    "     \n",
    "     \n",
    "     \n",
    "     \n",
    "     \n",
    "\"\"\";\n",
    "\n",
    "d2 = \"\"\"\n",
    "#### \n",
    "    #\n",
    "   # \n",
    " ##  \n",
    "#####\n",
    "\"\"\";\n",
    "\n",
    "d0 = \"\"\"\n",
    " ### \n",
    "#   #\n",
    "#   #\n",
    "#   #\n",
    " ### \n",
    "\"\"\";\n",
    "\n",
    "d1 = \"\"\"\n",
    "  #  \n",
    " ##  \n",
    "  #  \n",
    "  #  \n",
    " ### \n",
    "\"\"\";"
   ]
  },
  {
   "cell_type": "markdown",
   "metadata": {},
   "source": [
    "### Let's make some decorative charcters to make greeting more presnetable"
   ]
  },
  {
   "cell_type": "code",
   "execution_count": 6,
   "metadata": {},
   "outputs": [],
   "source": [
    "heart = \"\"\"\n",
    " o o \n",
    "ooooo\n",
    "ooooo\n",
    " ooo \n",
    "  o  \n",
    "\"\"\";\n",
    "\n",
    "diamond = \"\"\"\n",
    "  o  \n",
    " ooo \n",
    "ooooo\n",
    " ooo \n",
    "  o  \n",
    "\"\"\";\n",
    "\n",
    "stars1 = \"\"\"\n",
    "    *\n",
    " *   \n",
    "   * \n",
    "*    \n",
    "  *  \n",
    "\"\"\";\n",
    "\n",
    "stars2 = \"\"\"\n",
    "  *  \n",
    "    *\n",
    "*    \n",
    "   * \n",
    " *   \n",
    "\"\"\";\n",
    "\n",
    "stars3 = \"\"\"\n",
    "*    \n",
    "    *\n",
    " *   \n",
    "   * \n",
    "  * \n",
    "\"\"\";\n",
    "\n",
    "stars4 = \"\"\"\n",
    "   * \n",
    "*    \n",
    "  *  \n",
    " *   \n",
    "    *\n",
    "\"\"\";\n"
   ]
  },
  {
   "cell_type": "markdown",
   "metadata": {},
   "source": [
    "### Functions to finalize charcters"
   ]
  },
  {
   "cell_type": "code",
   "execution_count": 22,
   "metadata": {},
   "outputs": [],
   "source": [
    "def whole_half(n):\n",
    "    if n%2 == 0:\n",
    "        return (int(n/2), int(n/2))\n",
    "    else:\n",
    "        return (int(n/2+0.5), int(n/2-0.5))"
   ]
  },
  {
   "cell_type": "code",
   "execution_count": 34,
   "metadata": {},
   "outputs": [
    {
     "data": {
      "text/plain": [
       "['', '#   #', '#   #', '#####', '#   #', '#   #', '']"
      ]
     },
     "execution_count": 34,
     "metadata": {},
     "output_type": "execute_result"
    }
   ],
   "source": [
    "s = H\n",
    "\n",
    "canvas_size=(9,9)\n",
    "\n",
    "s = s.split('\\n')\n",
    "\n",
    "character_height = len(s)\n",
    "character_width = max([len(l) for l in s])\n",
    "canvas_height = character_height if (character_height>canvas_size[0]) else  canvas_size[0] \n",
    "canvas_width = character_width if (character_width>canvas_size[0] ) else canvas_size[1] \n",
    "\n",
    "fill_top, fill_bottom = whole_half(canvas_height-character_height)\n",
    "s"
   ]
  },
  {
   "cell_type": "code",
   "execution_count": 35,
   "metadata": {},
   "outputs": [
    {
     "data": {
      "text/plain": [
       "['         ', '', '#   #', '#   #', '#####', '#   #', '#   #', '']"
      ]
     },
     "execution_count": 35,
     "metadata": {},
     "output_type": "execute_result"
    }
   ],
   "source": [
    "for i in range(0,fill_top):\n",
    "    s.insert(0, \" \"*canvas_width)\n",
    "\n",
    "s"
   ]
  },
  {
   "cell_type": "code",
   "execution_count": 33,
   "metadata": {},
   "outputs": [
    {
     "data": {
      "text/plain": [
       "9"
      ]
     },
     "execution_count": 33,
     "metadata": {},
     "output_type": "execute_result"
    }
   ],
   "source": [
    "canvas_width"
   ]
  },
  {
   "cell_type": "code",
   "execution_count": 42,
   "metadata": {},
   "outputs": [],
   "source": [
    "def display_charcter(s, canvas_size=(7,7)):\n",
    "    s = s.split('\\n')\n",
    "    \n",
    "    character_height = len(s)\n",
    "    character_width = max([len(l) for l in s])\n",
    "    canvas_height = character_height if (character_height>canvas_size[0]) else  canvas_size[0] \n",
    "    canvas_width = character_width if (character_width>canvas_size[1] ) else canvas_size[1] \n",
    "\n",
    "    fill_top, fill_bottom = whole_half(canvas_height-character_height)\n",
    "\n",
    "    for i in range(0,fill_top):\n",
    "        s.insert(0, \" \"*canvas_width)\n",
    "    \n",
    "\n",
    "    for j in range(0,fill_bottom):\n",
    "        s.insert(len(s)-1, \" \"*canvas_width)\n",
    "\n",
    "    for k in range(0,canvas_height):\n",
    "        line_legth = len(s[k])\n",
    "        fill_left, fill_right = whole_half(canvas_width-line_legth)\n",
    "\n",
    "        for i in range(0,fill_left):\n",
    "            s[k] = \" \"+s[k]\n",
    "        \n",
    "\n",
    "        for j in range(0,fill_right):\n",
    "            s[k] = s[k]+\" \"\n",
    "           \n",
    "    \n",
    "        \n",
    "    return s"
   ]
  },
  {
   "cell_type": "code",
   "execution_count": 43,
   "metadata": {},
   "outputs": [
    {
     "data": {
      "text/plain": [
       "['       ', ' #   # ', ' #   # ', ' ##### ', ' #   # ', ' #   # ', '       ']"
      ]
     },
     "execution_count": 43,
     "metadata": {},
     "output_type": "execute_result"
    }
   ],
   "source": [
    "display_charcter(H)"
   ]
  },
  {
   "cell_type": "markdown",
   "metadata": {},
   "source": [
    "## Task 2: Assemble Lines of Greeting"
   ]
  },
  {
   "cell_type": "code",
   "execution_count": 56,
   "metadata": {},
   "outputs": [
    {
     "data": {
      "text/plain": [
       "array([['       ', ' #   # ', ' #   # ', ' ##### ', ' #   # ', ' #   # ',\n",
       "        '       '],\n",
       "       ['       ', '  ###  ', ' #   # ', ' ##### ', ' #   # ', ' #   # ',\n",
       "        '       '],\n",
       "       ['       ', ' ####  ', ' #   # ', ' ####  ', ' #     ', ' #     ',\n",
       "        '       '],\n",
       "       ['       ', ' ####  ', ' #   # ', ' ####  ', ' #     ', ' #     ',\n",
       "        '       '],\n",
       "       ['       ', ' #   # ', '  # #  ', '   #   ', '   #   ', '   #   ',\n",
       "        '       ']], dtype='<U7')"
      ]
     },
     "execution_count": 56,
     "metadata": {},
     "output_type": "execute_result"
    }
   ],
   "source": [
    "characters = np.array([display_charcter(c) for c in [H,A,P,P,Y]])\n",
    "characters"
   ]
  },
  {
   "cell_type": "code",
   "execution_count": 58,
   "metadata": {},
   "outputs": [
    {
     "data": {
      "text/plain": [
       "array(['                                   ',\n",
       "       ' #   #   ###   ####   ####   #   # ',\n",
       "       ' #   #  #   #  #   #  #   #   # #  ',\n",
       "       ' #####  #####  ####   ####     #   ',\n",
       "       ' #   #  #   #  #      #        #   ',\n",
       "       ' #   #  #   #  #      #        #   ',\n",
       "       '                                   '], dtype='<U35')"
      ]
     },
     "execution_count": 58,
     "metadata": {},
     "output_type": "execute_result"
    }
   ],
   "source": [
    "line = characters[0]\n",
    "\n",
    "for c in characters[1:]:\n",
    "    line = np.char.add(line, c) \n",
    "\n",
    "line"
   ]
  },
  {
   "cell_type": "markdown",
   "metadata": {},
   "source": [
    "## Task 3: Print Message Line"
   ]
  },
  {
   "cell_type": "code",
   "execution_count": 59,
   "metadata": {},
   "outputs": [
    {
     "name": "stdout",
     "output_type": "stream",
     "text": [
      "                                   \n",
      " #   #   ###   ####   ####   #   # \n",
      " #   #  #   #  #   #  #   #   # #  \n",
      " #####  #####  ####   ####     #   \n",
      " #   #  #   #  #      #        #   \n",
      " #   #  #   #  #      #        #   \n",
      "                                   \n"
     ]
    }
   ],
   "source": [
    "for l in line:\n",
    "    print(l)"
   ]
  },
  {
   "cell_type": "markdown",
   "metadata": {},
   "source": [
    "## Task 4: Add Colors to Print Message Line"
   ]
  },
  {
   "cell_type": "code",
   "execution_count": 62,
   "metadata": {},
   "outputs": [
    {
     "name": "stdout",
     "output_type": "stream",
     "text": [
      "\u001b[32m                                   \n",
      "\u001b[32m #   #   ###   ####   ####   #   # \n",
      "\u001b[32m #   #  #   #  #   #  #   #   # #  \n",
      "\u001b[32m #####  #####  ####   ####     #   \n",
      "\u001b[32m #   #  #   #  #      #        #   \n",
      "\u001b[32m #   #  #   #  #      #        #   \n",
      "\u001b[32m                                   \n"
     ]
    }
   ],
   "source": [
    "from colorama import * # To change font colors (https://github.com/tartley/colorama)\n",
    "\n",
    "for l in line:\n",
    "    print(Fore.GREEN + l)"
   ]
  },
  {
   "cell_type": "markdown",
   "metadata": {},
   "source": [
    "## Task 5: Create a Function to Print a Given Line of Charcters  (Combine codes from Task 2-4)"
   ]
  },
  {
   "cell_type": "code",
   "execution_count": 79,
   "metadata": {},
   "outputs": [],
   "source": [
    "import numpy as np\n",
    "from colorama import * # To change font colors (https://github.com/tartley/colorama)\n",
    "\n",
    "def print_decorated_line(characters, color=Fore.BLACK):\n",
    "    characters = np.array([display_charcter(c) for c in characters])\n",
    "    \n",
    "    line = characters[0]\n",
    "\n",
    "    for c in characters[1:]:\n",
    "        line = np.char.add(line, c) \n",
    "    \n",
    "    for l in line:\n",
    "        print(color + l)"
   ]
  },
  {
   "cell_type": "code",
   "execution_count": 80,
   "metadata": {},
   "outputs": [
    {
     "name": "stdout",
     "output_type": "stream",
     "text": [
      "\u001b[34m                                   \n",
      "\u001b[34m #   #   ###   ####   ####   #   # \n",
      "\u001b[34m #   #  #   #  #   #  #   #   # #  \n",
      "\u001b[34m #####  #####  ####   ####     #   \n",
      "\u001b[34m #   #  #   #  #      #        #   \n",
      "\u001b[34m #   #  #   #  #      #        #   \n",
      "\u001b[34m                                   \n"
     ]
    }
   ],
   "source": [
    "print_decorated_line([H,A,P,P,Y], Fore.BLUE)"
   ]
  },
  {
   "cell_type": "markdown",
   "metadata": {},
   "source": [
    "## Task 6: Assemble The Greeting Message\n",
    "* Width : 8 charcters\n",
    "* Height : 5 lines\n",
    "* Top Border : Diamonds\n",
    "* Bottom Border: Diamonds\n",
    "* Left Border : Stars\n",
    "* Right Border : Stars\n",
    "* Use Hearts to fill the gaps of Consucutive Spaces"
   ]
  },
  {
   "cell_type": "code",
   "execution_count": 81,
   "metadata": {},
   "outputs": [
    {
     "name": "stdout",
     "output_type": "stream",
     "text": [
      "\u001b[31m                                                                      \n",
      "\u001b[31m   o      o      o      o      o      o      o      o      o      o   \n",
      "\u001b[31m  ooo    ooo    ooo    ooo    ooo    ooo    ooo    ooo    ooo    ooo  \n",
      "\u001b[31m ooooo  ooooo  ooooo  ooooo  ooooo  ooooo  ooooo  ooooo  ooooo  ooooo \n",
      "\u001b[31m  ooo    ooo    ooo    ooo    ooo    ooo    ooo    ooo    ooo    ooo  \n",
      "\u001b[31m   o      o      o      o      o      o      o      o      o      o   \n",
      "\u001b[31m                                                                      \n",
      "\u001b[34m                                                                      \n",
      "\u001b[34m     *  #   #   ###   ####   ####   #   #          o o            *   \n",
      "\u001b[34m  *     #   #  #   #  #   #  #   #   # #          ooooo             * \n",
      "\u001b[34m    *   #####  #####  ####   ####     #           ooooo         *     \n",
      "\u001b[34m *      #   #  #   #  #      #        #            ooo             *  \n",
      "\u001b[34m   *    #   #  #   #  #      #        #             o            *    \n",
      "\u001b[34m                                                                      \n",
      "\u001b[32m                                                                      \n",
      "\u001b[32m *      #   #  #####  #   #         #   #  #####   ###   ####       * \n",
      "\u001b[32m     *  ##  #  #      #   #          # #   #      #   #  #   #   *    \n",
      "\u001b[32m  *     # # #  #####  # # #           #    #####  #####  ####      *  \n",
      "\u001b[32m    *   #  ##  #      ## ##           #    #      #   #  #  #   *     \n",
      "\u001b[32m    *   #   #  #####  #   #           #    #####  #   #  #   #    *   \n",
      "\u001b[32m                                                                      \n",
      "\u001b[33m                                                                      \n",
      "\u001b[33m   *            o o    o o          ####    ###   ####     #       *  \n",
      "\u001b[33m     *         ooooo  ooooo             #  #   #      #   ##    *     \n",
      "\u001b[33m *             ooooo  ooooo            #   #   #     #     #      *   \n",
      "\u001b[33m    *           ooo    ooo           ##    #   #   ##      #     *    \n",
      "\u001b[33m  *              o      o           #####   ###   #####   ###       * \n",
      "\u001b[33m                                                                      \n",
      "\u001b[31m                                                                      \n",
      "\u001b[31m   o      o      o      o      o      o      o      o      o      o   \n",
      "\u001b[31m  ooo    ooo    ooo    ooo    ooo    ooo    ooo    ooo    ooo    ooo  \n",
      "\u001b[31m ooooo  ooooo  ooooo  ooooo  ooooo  ooooo  ooooo  ooooo  ooooo  ooooo \n",
      "\u001b[31m  ooo    ooo    ooo    ooo    ooo    ooo    ooo    ooo    ooo    ooo  \n",
      "\u001b[31m   o      o      o      o      o      o      o      o      o      o   \n",
      "\u001b[31m                                                                      \n"
     ]
    }
   ],
   "source": [
    "characters = [diamond, diamond, diamond, diamond, diamond, diamond, diamond, diamond, diamond, diamond]\n",
    "print_decorated_line(characters, Fore.RED)\n",
    "\n",
    "characters = [stars1, H,A,P,P,Y, space, heart, space, stars2]\n",
    "print_decorated_line(characters, Fore.BLUE)\n",
    "\n",
    "characters = [stars3, N, E, W, space, Y, E, A, R, stars1]\n",
    "print_decorated_line(characters, Fore.GREEN)\n",
    "\n",
    "characters = [stars2, space, heart, heart, space, d2, d0, d2, d1, stars4]\n",
    "print_decorated_line(characters, Fore.YELLOW)\n",
    "\n",
    "characters = [diamond, diamond, diamond, diamond, diamond, diamond, diamond, diamond, diamond, diamond]\n",
    "print_decorated_line(characters, Fore.RED)"
   ]
  },
  {
   "cell_type": "markdown",
   "metadata": {},
   "source": [
    "<hr>\n",
    "©2021 Sumudu Tennakoon"
   ]
  },
  {
   "cell_type": "code",
   "execution_count": null,
   "metadata": {},
   "outputs": [],
   "source": []
  }
 ],
 "metadata": {
  "@webio": {
   "lastCommId": null,
   "lastKernelId": null
  },
  "kernelspec": {
   "display_name": "Python 3",
   "language": "python",
   "name": "python3"
  },
  "language_info": {
   "codemirror_mode": {
    "name": "ipython",
    "version": 3
   },
   "file_extension": ".py",
   "mimetype": "text/x-python",
   "name": "python",
   "nbconvert_exporter": "python",
   "pygments_lexer": "ipython3",
   "version": "3.8.5"
  }
 },
 "nbformat": 4,
 "nbformat_minor": 4
}
