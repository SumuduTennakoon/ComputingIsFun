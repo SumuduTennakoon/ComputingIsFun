{
 "cells": [
  {
   "cell_type": "markdown",
   "metadata": {},
   "source": [
    "# Merry Christmas and Happy Holidays !\n",
    "## Using Julia Programing Language\n",
    "Author: Sumudu Tennakoon\\\n",
    "Created Date: 2020-12-24"
   ]
  },
  {
   "cell_type": "markdown",
   "metadata": {},
   "source": [
    "## Goal\n",
    "To create a Greeting Card in the console output with \n",
    "* An illustration of a Christmas tree using characters.\n",
    "* Randomly distributed Ornaments and Decorations.\n",
    "* a start in the top of of the tree\n",
    "* A border at the bottom of the leaves\n",
    "* A base attached to the tree\n",
    "* Greeting message \"MERRY CHRISTMAS AND HAPPY HOLIDAYS\"\n",
    "* Colors: red star green tree, a blue border at the bottom, magenta base, and the message in red."
   ]
  },
  {
   "cell_type": "markdown",
   "metadata": {},
   "source": [
    "## Task 1: Setup Tree Parameters (width, body height, and full hight with the base)"
   ]
  },
  {
   "cell_type": "code",
   "execution_count": 1,
   "metadata": {},
   "outputs": [],
   "source": [
    "width = 25; # Tree width\n",
    "body_height = 25; # Height without stand\n",
    "full_height = 31; # Total height"
   ]
  },
  {
   "cell_type": "markdown",
   "metadata": {},
   "source": [
    "## Task 2: Print Basic Tree Body"
   ]
  },
  {
   "cell_type": "code",
   "execution_count": 2,
   "metadata": {},
   "outputs": [
    {
     "name": "stdout",
     "output_type": "stream",
     "text": [
      "            *\n",
      "           ^^^\n",
      "          ^^^^^\n",
      "         ^^^^^^^\n",
      "        ^^^^^^^^^\n",
      "       ^^^^^^^^^^^\n",
      "      ^^^^^^^^^^^^^\n",
      "     ^^^^^^^^^^^^^^^\n",
      "    ^^^^^^^^^^^^^^^^^\n",
      "   ^^^^^^^^^^^^^^^^^^^\n",
      "  ^^^^^^^^^^^^^^^^^^^^^\n",
      " ^^^^^^^^^^^^^^^^^^^^^^^\n"
     ]
    }
   ],
   "source": [
    "tree = \"\"\n",
    "for x in 1:2:full_height\n",
    "    s = \"\"\n",
    "    center = Int((width-1)/2)\n",
    "    padding = center-Int((x-1)/2)\n",
    "    if x == 1\n",
    "        s=\"*\"\n",
    "        println(' '^padding*s) \n",
    "    elseif x < body_height       \n",
    "        for y in 1:x\n",
    "            s = s * '^'\n",
    "        end\n",
    "        println(' '^padding*s)         \n",
    "    end\n",
    "end"
   ]
  },
  {
   "cell_type": "markdown",
   "metadata": {},
   "source": [
    "## Task 3: Add Bottom Border Ribbon, Base, and Ground"
   ]
  },
  {
   "cell_type": "code",
   "execution_count": 3,
   "metadata": {},
   "outputs": [
    {
     "name": "stdout",
     "output_type": "stream",
     "text": [
      "            *\n",
      "           ^^^\n",
      "          ^^^^^\n",
      "         ^^^^^^^\n",
      "        ^^^^^^^^^\n",
      "       ^^^^^^^^^^^\n",
      "      ^^^^^^^^^^^^^\n",
      "     ^^^^^^^^^^^^^^^\n",
      "    ^^^^^^^^^^^^^^^^^\n",
      "   ^^^^^^^^^^^^^^^^^^^\n",
      "  ^^^^^^^^^^^^^^^^^^^^^\n",
      " ^^^^^^^^^^^^^^^^^^^^^^^\n",
      "#########################\n",
      "            II\n",
      "            II\n",
      "~~~~~~~~~~~~~~~~~~~~~~~~~\n"
     ]
    }
   ],
   "source": [
    "tree = \"\"\n",
    "for x in 1:2:full_height\n",
    "    s = \"\"\n",
    "    center = Int((width-1)/2)\n",
    "    padding = center-Int((x-1)/2)\n",
    "    if x == 1\n",
    "        s=\"*\"\n",
    "        println(' '^padding*s) \n",
    "    elseif x < body_height       \n",
    "        for y in 1:x\n",
    "            s = s * '^'\n",
    "        end\n",
    "        println(' '^padding*s)         \n",
    "    elseif x == body_height\n",
    "        s = s * \"#\"^width\n",
    "        println(' '^padding*s) \n",
    "    elseif x > body_height && x < full_height\n",
    "        s = s * \"II\"\n",
    "        println(' '^center*s) \n",
    "    end\n",
    "end\n",
    "println(('~'^width))  "
   ]
  },
  {
   "cell_type": "markdown",
   "metadata": {},
   "source": [
    "## Task 4: Add Ornaments"
   ]
  },
  {
   "cell_type": "code",
   "execution_count": 4,
   "metadata": {},
   "outputs": [
    {
     "name": "stdout",
     "output_type": "stream",
     "text": [
      "            *\n",
      "           ^^^\n",
      "          ^^^^^\n",
      "         ^^^^^^o\n",
      "        +^^^^^^^^\n",
      "       +^^^@@^^^^^\n",
      "      ^^^^^^^^^^^^^\n",
      "     ^^^^^^^^^^^^^^^\n",
      "    ^@^^+^^^^^^^^^^^^\n",
      "   ^^^^^^^^^^^^^^^^^^^\n",
      "  ^^^^^o^^^^^^^^^o^^^^^\n",
      " ^^^^^^^^^^^^^^^^^^^^^^^\n",
      "#########################\n",
      "            II\n",
      "            II\n",
      "~~~~~~~~~~~~~~~~~~~~~~~~~\n"
     ]
    }
   ],
   "source": [
    "tree = \"\"\n",
    "for x in 1:2:full_height\n",
    "    s = \"\"\n",
    "    center = Int((width-1)/2)\n",
    "    padding = center-Int((x-1)/2)\n",
    "    if x == 1\n",
    "        s=\"*\"\n",
    "        println(' '^padding*s) \n",
    "    elseif x < body_height       \n",
    "        for y in 1:x\n",
    "            b = rand(1:width) #randint(0, width) # Location to add random decoration 1\n",
    "            a = rand(1:width) #randint(0, width) # Add random decoration 2\n",
    "            c = rand(1:width) #randint(0, width) # Add random decoration 3\n",
    "            if y==b\n",
    "                s = s * 'o'\n",
    "            elseif y==a\n",
    "                s = s * '@'\n",
    "            elseif y==c\n",
    "                s = s * '+'\n",
    "            else\n",
    "                s = s * '^'\n",
    "            end\n",
    "        end\n",
    "        println(' '^padding*s)         \n",
    "    elseif x == body_height\n",
    "        s = s * \"#\"^width\n",
    "        println(' '^padding*s) \n",
    "    elseif x > body_height && x < full_height\n",
    "        s = s * \"II\"\n",
    "        println(' '^center*s) \n",
    "    end\n",
    "end\n",
    "println(('~'^width))  "
   ]
  },
  {
   "cell_type": "markdown",
   "metadata": {},
   "source": [
    "## Task 5: Add Greeting Message"
   ]
  },
  {
   "cell_type": "code",
   "execution_count": 5,
   "metadata": {},
   "outputs": [
    {
     "name": "stdout",
     "output_type": "stream",
     "text": [
      "            *\n",
      "           ^^^\n",
      "          ^^^^^\n",
      "         ^^^^^^^\n",
      "        ^^^^^^^^^\n",
      "       +^^@^^^^^+^\n",
      "      ^o^^^o^^^^^^o\n",
      "     ^^^^^^^^^o^^^^o\n",
      "    ^^^^^^^^^^^^^^^^@\n",
      "   ^@+^^^^o^^^^^^^^^^^\n",
      "  ^^^+^^^^^^^^^^^^^@^^^\n",
      " ^o^^^^^^@^^^^^^^^^^^^^^\n",
      "#########################\n",
      "            II\n",
      "            II\n",
      "~~~~~~~~~~~~~~~~~~~~~~~~~\n",
      "     MERRY CHRISTMAS     \n",
      "           AND           \n",
      "     HAPPY HOLIDAYS !    \n",
      "~~~~~~~~~~~~~~~~~~~~~~~~~\n"
     ]
    }
   ],
   "source": [
    "tree = \"\"\n",
    "for x in 1:2:full_height\n",
    "    s = \"\"\n",
    "    center = Int((width-1)/2)\n",
    "    padding = center-Int((x-1)/2)\n",
    "    if x == 1\n",
    "        s=\"*\"\n",
    "        println(' '^padding*s) \n",
    "    elseif x < body_height       \n",
    "        for y in 1:x\n",
    "            b = rand(1:width) #randint(0, width) # Location to add random decoration 1\n",
    "            a = rand(1:width) #randint(0, width) # Add random decoration 2\n",
    "            c = rand(1:width) #randint(0, width) # Add random decoration 3\n",
    "            if y==b\n",
    "                s = s * 'o'\n",
    "            elseif y==a\n",
    "                s = s * '@'\n",
    "            elseif y==c\n",
    "                s = s * '+'\n",
    "            else\n",
    "                s = s * '^'\n",
    "            end\n",
    "        end\n",
    "        println(' '^padding*s)         \n",
    "    elseif x == body_height\n",
    "        s = s * \"#\"^width\n",
    "        println(' '^padding*s) \n",
    "    elseif x > body_height && x < full_height\n",
    "        s = s * \"II\"\n",
    "        println(' '^center*s) \n",
    "    end\n",
    "end\n",
    "println(('~'^width))  \n",
    "println(\"     MERRY CHRISTMAS     \") \n",
    "println(\"           AND           \")\n",
    "println(\"     HAPPY HOLIDAYS !    \")\n",
    "println(('~'^width))  "
   ]
  },
  {
   "cell_type": "markdown",
   "metadata": {},
   "source": [
    "## Task 6: Add colors"
   ]
  },
  {
   "cell_type": "code",
   "execution_count": 6,
   "metadata": {
    "scrolled": true
   },
   "outputs": [
    {
     "name": "stdout",
     "output_type": "stream",
     "text": [
      "\u001b[31m            *\n",
      "\u001b[32m           ^^^\n",
      "\u001b[32m          ^^@^^\n",
      "\u001b[32m         ^^^^^^@\n",
      "\u001b[32m        ^^^^^^^^^\n",
      "\u001b[32m       ^+^^^^^^^^^\n",
      "\u001b[32m      ^^^^@^^^+^^@^\n",
      "\u001b[32m     ^^^^^^o^^^^o^^^\n",
      "\u001b[32m    ^^^^o^^o^^+^^+^@^\n",
      "\u001b[32m   ^^^^^^^^^^^^^^+^^^@\n",
      "\u001b[32m  +^^^^^^^+^^^^^^^^^^^^\n",
      "\u001b[32m ^^^^^+^^^^^^^^^^^o^^^^^\n",
      "\u001b[34m#########################\n",
      "\u001b[35m            II\n",
      "\u001b[35m            II\n",
      "\u001b[35m~~~~~~~~~~~~~~~~~~~~~~~~~\n",
      "\u001b[31m     MERRY CHRISTMAS     \n",
      "\u001b[31m           AND           \n",
      "\u001b[31m     HAPPY HOLIDAYS !    \n",
      "\u001b[31m~~~~~~~~~~~~~~~~~~~~~~~~~\n"
     ]
    }
   ],
   "source": [
    "using Crayons # To change font colors (https://github.com/KristofferC/Crayons.jl)\n",
    "\n",
    "width = 25 # Tree width\n",
    "body_height = 25 # Height without stand\n",
    "full_height = 31 # Total height\n",
    "\n",
    "tree = \"\"\n",
    "for x in 1:2:full_height\n",
    "    s = \"\"\n",
    "    center = Int((width-1)/2)\n",
    "    padding = center-Int((x-1)/2)\n",
    "    if x == 1\n",
    "        s=\"*\"\n",
    "        println(Crayon(foreground = :red),' '^padding*s) \n",
    "    elseif x < body_height       \n",
    "        for y in 1:x\n",
    "            b = rand(1:width) #randint(0, width) # Location to add random decoration 1\n",
    "            a = rand(1:width) #randint(0, width) # Add random decoration 2\n",
    "            c = rand(1:width) #randint(0, width) # Add random decoration 3\n",
    "            if y==b\n",
    "                s = s * 'o'\n",
    "            elseif y==a\n",
    "                s = s * '@'\n",
    "            elseif y==c\n",
    "                s = s * '+'\n",
    "            else\n",
    "                s = s * '^'\n",
    "            end\n",
    "        end\n",
    "        println(Crayon(foreground = :green), ' '^padding*s) \n",
    "        \n",
    "    elseif x == body_height\n",
    "        s = s * \"#\"^width\n",
    "        println(Crayon(foreground = :blue),' '^padding*s) \n",
    "    elseif x > body_height && x < full_height\n",
    "        s = s * \"II\"\n",
    "        println(Crayon(foreground = :magenta),' '^center*s) \n",
    "    end\n",
    "end\n",
    "println(Crayon(foreground = :magenta),('~'^width))  \n",
    "println(Crayon(foreground = :red),\"     MERRY CHRISTMAS     \") \n",
    "println(Crayon(foreground = :red),\"           AND           \")\n",
    "println(Crayon(foreground = :red),\"     HAPPY HOLIDAYS !    \")\n",
    "println(Crayon(foreground = :red),('~'^width))  "
   ]
  },
  {
   "cell_type": "markdown",
   "metadata": {},
   "source": [
    "## Bonus \n",
    "* Add new Ornament\n",
    "* Add Colors to Ornaments (printing characters individually)"
   ]
  },
  {
   "cell_type": "code",
   "execution_count": 7,
   "metadata": {},
   "outputs": [
    {
     "name": "stdout",
     "output_type": "stream",
     "text": [
      "\n",
      "            \u001b[31m*\n",
      "           \u001b[32m^\u001b[32m^\u001b[32m^\n",
      "          \u001b[32m^\u001b[32m^\u001b[95m@\u001b[95m@\u001b[31m+\n",
      "         \u001b[32m^\u001b[32m^\u001b[36m&\u001b[32m^\u001b[95m@\u001b[32m^\u001b[32m^\n",
      "        \u001b[32m^\u001b[32m^\u001b[32m^\u001b[32m^\u001b[32m^\u001b[32m^\u001b[32m^\u001b[32m^\u001b[32m^\n",
      "       \u001b[32m^\u001b[32m^\u001b[95m@\u001b[32m^\u001b[32m^\u001b[32m^\u001b[32m^\u001b[32m^\u001b[32m^\u001b[95m@\u001b[32m^\n",
      "      \u001b[32m^\u001b[32m^\u001b[31m+\u001b[31m+\u001b[32m^\u001b[32m^\u001b[32m^\u001b[33mo\u001b[32m^\u001b[32m^\u001b[32m^\u001b[32m^\u001b[32m^\n",
      "     \u001b[36m&\u001b[32m^\u001b[32m^\u001b[32m^\u001b[32m^\u001b[32m^\u001b[32m^\u001b[32m^\u001b[32m^\u001b[32m^\u001b[32m^\u001b[32m^\u001b[95m@\u001b[32m^\u001b[36m&\n",
      "    \u001b[32m^\u001b[32m^\u001b[32m^\u001b[32m^\u001b[32m^\u001b[32m^\u001b[32m^\u001b[32m^\u001b[95m@\u001b[32m^\u001b[32m^\u001b[32m^\u001b[32m^\u001b[32m^\u001b[32m^\u001b[32m^\u001b[32m^\n",
      "   \u001b[32m^\u001b[32m^\u001b[32m^\u001b[32m^\u001b[32m^\u001b[32m^\u001b[32m^\u001b[32m^\u001b[32m^\u001b[31m+\u001b[32m^\u001b[32m^\u001b[32m^\u001b[32m^\u001b[32m^\u001b[32m^\u001b[32m^\u001b[32m^\u001b[32m^\n",
      "  \u001b[32m^\u001b[32m^\u001b[32m^\u001b[32m^\u001b[32m^\u001b[32m^\u001b[33mo\u001b[32m^\u001b[32m^\u001b[32m^\u001b[32m^\u001b[32m^\u001b[32m^\u001b[32m^\u001b[32m^\u001b[32m^\u001b[32m^\u001b[32m^\u001b[32m^\u001b[32m^\u001b[32m^\n",
      " \u001b[32m^\u001b[32m^\u001b[32m^\u001b[32m^\u001b[32m^\u001b[32m^\u001b[32m^\u001b[32m^\u001b[32m^\u001b[95m@\u001b[32m^\u001b[32m^\u001b[32m^\u001b[32m^\u001b[32m^\u001b[32m^\u001b[32m^\u001b[32m^\u001b[32m^\u001b[32m^\u001b[32m^\u001b[32m^\u001b[32m^\n",
      "\u001b[34m#########################\n",
      "            \u001b[35mII\n",
      "            \u001b[35mII\n",
      "\u001b[35m~~~~~~~~~~~~~~~~~~~~~~~~~\n",
      "\u001b[31m     MERRY CHRISTMAS     \n",
      "\u001b[31m           AND           \n",
      "\u001b[31m     HAPPY HOLIDAYS !    \n",
      "\u001b[31m~~~~~~~~~~~~~~~~~~~~~~~~~\n"
     ]
    }
   ],
   "source": [
    "using Crayons # To change font colors (https://github.com/KristofferC/Crayons.jl)\n",
    "\n",
    "width = 25 # Tree width\n",
    "body_height = 25 # Height without stand\n",
    "full_height = 31 # Total height\n",
    "\n",
    "tree = \"\"\n",
    "for x in 1:2:full_height\n",
    "    center = Int((width-1)/2)\n",
    "    padding = center-Int((x-1)/2)       \n",
    "    \n",
    "    print('\\n')\n",
    "    if x == 1\n",
    "        print(' '^padding)\n",
    "        print(Crayon(foreground = :red), \"*\") \n",
    "    elseif x < body_height \n",
    "        print(' '^padding)\n",
    "        for y in 1:x\n",
    "            b = rand(1:width) #randint(0, width) # Location to add random decoration 1\n",
    "            a = rand(1:width) #randint(0, width) # Add random decoration 2\n",
    "            c = rand(1:width) #randint(0, width) # Add random decoration 3\n",
    "            d = rand(1:width) #randint(0, width) # Add random decoration 4\n",
    "            if y==b\n",
    "                #s = s * 'o'\n",
    "                print(Crayon(foreground = :yellow),\"o\") \n",
    "            elseif y==a\n",
    "                print(Crayon(foreground = :light_magenta),\"@\")\n",
    "            elseif y==c\n",
    "                print(Crayon(foreground = :red),\"+\")\n",
    "            elseif y==d\n",
    "                print(Crayon(foreground = :cyan),\"&\")\n",
    "            else\n",
    "                print(Crayon(foreground = :green),\"^\")\n",
    "            end\n",
    "        end        \n",
    "    elseif x == body_height\n",
    "        print(' '^padding)\n",
    "        print(Crayon(foreground = :blue), \"#\"^width) \n",
    "    elseif x > body_height && x < full_height\n",
    "        print(' '^center)\n",
    "        print(Crayon(foreground = :magenta), \"II\")\n",
    "    end    \n",
    "end\n",
    "println(Crayon(foreground = :magenta),('~'^width))  \n",
    "println(Crayon(foreground = :red),\"     MERRY CHRISTMAS     \") \n",
    "println(Crayon(foreground = :red),\"           AND           \")\n",
    "println(Crayon(foreground = :red),\"     HAPPY HOLIDAYS !    \")\n",
    "println(Crayon(foreground = :red),('~'^width))  "
   ]
  },
  {
   "cell_type": "markdown",
   "metadata": {},
   "source": [
    "<hr>\n",
    "©2020 Sumudu Tennakoon"
   ]
  }
 ],
 "metadata": {
  "@webio": {
   "lastCommId": null,
   "lastKernelId": null
  },
  "kernelspec": {
   "display_name": "Julia 1.5.2",
   "language": "julia",
   "name": "julia-1.5"
  },
  "language_info": {
   "file_extension": ".jl",
   "mimetype": "application/julia",
   "name": "julia",
   "version": "1.5.2"
  }
 },
 "nbformat": 4,
 "nbformat_minor": 4
}
