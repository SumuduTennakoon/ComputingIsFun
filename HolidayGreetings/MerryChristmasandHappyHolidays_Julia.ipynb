{
 "cells": [
  {
   "cell_type": "markdown",
   "metadata": {},
   "source": [
    "# Merry Christmas and Happy Holidays !\n",
    "## Using Julia Programing Language\n",
    "Author: Sumudu Tennakoon\\\n",
    "Created Date: 2020-12-24"
   ]
  },
  {
   "cell_type": "code",
   "execution_count": 1,
   "metadata": {},
   "outputs": [
    {
     "name": "stdout",
     "output_type": "stream",
     "text": [
      "\u001b[31m            *\n",
      "\u001b[32m           ^^^\n",
      "\u001b[32m          ^^^^^\n",
      "\u001b[32m         ^^^o^@^\n",
      "\u001b[32m        ^^@^^^^^^\n",
      "\u001b[32m       ^^^^^^^^^^^\n",
      "\u001b[32m      ^^^^^@^^^^^^^\n",
      "\u001b[32m     ^^^^^^^^^^^^^^^\n",
      "\u001b[32m    ^^^^^^^^^+^^^^^^^\n",
      "\u001b[32m   ^@^^^^^^^^o^^^^o^^^\n",
      "\u001b[32m  ^^^^^^^^^^^^^^^^^^o^^\n",
      "\u001b[32m +^^^^^^@^^^^^^^^@^+^^^^\n",
      "\u001b[34m#########################\n",
      "\u001b[35m            II\n",
      "\u001b[35m            II\n",
      "\u001b[35m~~~~~~~~~~~~~~~~~~~~~~~~~\n",
      "\u001b[31m     MERRY CHRISTMAS     \n",
      "\u001b[31m           AND           \n",
      "\u001b[31m     HAPPY HOLIDAYS !    \n",
      "\u001b[31m~~~~~~~~~~~~~~~~~~~~~~~~~\n"
     ]
    }
   ],
   "source": [
    "using Crayons # To change font colors (https://github.com/KristofferC/Crayons.jl)\n",
    "\n",
    "width = 25 # Tree width\n",
    "body_height = 25 # Height without stand\n",
    "full_height = 31 # Total height\n",
    "\n",
    "tree = \"\"\n",
    "for x in 1:2:full_height\n",
    "    s = \"\"\n",
    "    center = Int((width-1)/2)\n",
    "    padding = center-Int((x-1)/2)\n",
    "    if x == 1\n",
    "        s=\"*\"\n",
    "        println(Crayon(foreground = :red),' '^padding*s) \n",
    "    elseif x < body_height       \n",
    "        for y in 1:x\n",
    "            b = rand(1:width) #randint(0, width) # Location to add random decoration 1\n",
    "            a = rand(1:width) #randint(0, width) # Add random decoration 2\n",
    "            c = rand(1:width) #randint(0, width) # Add random decoration 3\n",
    "            if y==b\n",
    "                s = s * 'o'\n",
    "            elseif y==a\n",
    "                s = s * '@'\n",
    "            elseif y==c\n",
    "                s = s * '+'\n",
    "            else\n",
    "                s = s * '^'\n",
    "            end\n",
    "        end\n",
    "        println(Crayon(foreground = :green), ' '^padding*s) \n",
    "        \n",
    "    elseif x == body_height\n",
    "        s = s * \"#\"^width\n",
    "        println(Crayon(foreground = :blue),' '^padding*s) \n",
    "    elseif x > body_height && x < full_height\n",
    "        s = s * \"II\"\n",
    "        println(Crayon(foreground = :magenta),' '^center*s) \n",
    "    end\n",
    "end\n",
    "println(Crayon(foreground = :magenta),('~'^width))  \n",
    "println(Crayon(foreground = :red),\"     MERRY CHRISTMAS     \") \n",
    "println(Crayon(foreground = :red),\"           AND           \")\n",
    "println(Crayon(foreground = :red),\"     HAPPY HOLIDAYS !    \")\n",
    "println(Crayon(foreground = :red),('~'^width))  "
   ]
  },
  {
   "cell_type": "code",
   "execution_count": null,
   "metadata": {},
   "outputs": [],
   "source": []
  }
 ],
 "metadata": {
  "@webio": {
   "lastCommId": null,
   "lastKernelId": null
  },
  "kernelspec": {
   "display_name": "Julia 1.5.2",
   "language": "julia",
   "name": "julia-1.5"
  },
  "language_info": {
   "file_extension": ".jl",
   "mimetype": "application/julia",
   "name": "julia",
   "version": "1.5.2"
  }
 },
 "nbformat": 4,
 "nbformat_minor": 4
}
