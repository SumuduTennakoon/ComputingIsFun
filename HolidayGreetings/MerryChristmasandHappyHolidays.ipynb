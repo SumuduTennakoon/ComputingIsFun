{
 "cells": [
  {
   "cell_type": "markdown",
   "metadata": {},
   "source": [
    "# Merry Christmas and Happy Holidays\n",
    "Author: Sumudu Tennakoon\\\n",
    "Created Date: 2020-12-24"
   ]
  },
  {
   "cell_type": "code",
   "execution_count": 3,
   "metadata": {},
   "outputs": [
    {
     "name": "stdout",
     "output_type": "stream",
     "text": [
      "\u001b[31m            *            \n",
      "\u001b[32m           ^^^           \n",
      "\u001b[32m          o^^^@          \n",
      "\u001b[32m         ^^^^^^^         \n",
      "\u001b[32m        ^^^^^^^^^        \n",
      "\u001b[32m       ^^^^^^^^^^^       \n",
      "\u001b[32m      ^^^^^+^^^o^^^      \n",
      "\u001b[32m     ^^^oo^^^^^^^^^^     \n",
      "\u001b[32m    ^^^^^^^^^^^^^+^^^    \n",
      "\u001b[32m   @^^@^^o^^@^^+^^^^^^   \n",
      "\u001b[32m  o^^^^+^^@^^^^^^@^^^^@  \n",
      "\u001b[32m o^^^^^^@^^^^^^^^^^@^^^o \n",
      "\u001b[34m#########################\n",
      "\u001b[35m            II           \n",
      "\u001b[35m            II           \n",
      "~~~~~~~~~~~~~~~~~~~~~~~~~\n",
      "\u001b[31m     MERRY CHRISTMAS     \n",
      "\u001b[31m           AND           \n",
      "\u001b[31m     HAPPY HOLIDAYS !    \n",
      "~~~~~~~~~~~~~~~~~~~~~~~~~\n"
     ]
    }
   ],
   "source": [
    "from colorama import Fore # To change font colors (https://github.com/tartley/colorama)\n",
    "from random import randint\n",
    "\n",
    "width = 25 # Tree width\n",
    "body_height = 25 # Height without stand\n",
    "full_height = 31 # Total height\n",
    "\n",
    "tree = ''\n",
    "for x in range(1, full_height, 2):\n",
    "    s = ''\n",
    "    if x == 1 :\n",
    "        s='*'\n",
    "        print(Fore.RED + s.center(width)) \n",
    "    elif x < body_height:        \n",
    "        for y in range(0,x):\n",
    "            b = randint(0, width) # Location to add random decoration 1\n",
    "            a = randint(0, width) # Add random decoration 2\n",
    "            c = randint(0, width) # Add random decoration 3\n",
    "            if y==b:\n",
    "                s = s + 'o'\n",
    "            elif y==a:\n",
    "                s = s + '@'\n",
    "            elif y==c:\n",
    "                s = s + '+'\n",
    "            else:\n",
    "                s = s + '^'\n",
    "        print(Fore.GREEN + s.center(width)) \n",
    "    elif x == body_height:\n",
    "        s = s + '#'*width\n",
    "        print(Fore.BLUE + s.center(width)) \n",
    "    elif x > body_height and x < full_height:\n",
    "        s = s + 'II'\n",
    "        print(Fore.MAGENTA + s.center(width)) \n",
    "\n",
    "print(('~'*width).center(width))  \n",
    "print(Fore.RED + 'MERRY CHRISTMAS'.center(width)) \n",
    "print(Fore.RED + 'AND'.center(width))\n",
    "print(Fore.RED + 'HAPPY HOLIDAYS !'.center(width))\n",
    "print(('~'*width).center(width))  "
   ]
  },
  {
   "cell_type": "code",
   "execution_count": null,
   "metadata": {},
   "outputs": [],
   "source": []
  }
 ],
 "metadata": {
  "@webio": {
   "lastCommId": null,
   "lastKernelId": null
  },
  "kernelspec": {
   "display_name": "Python 3",
   "language": "python",
   "name": "python3"
  },
  "language_info": {
   "codemirror_mode": {
    "name": "ipython",
    "version": 3
   },
   "file_extension": ".py",
   "mimetype": "text/x-python",
   "name": "python",
   "nbconvert_exporter": "python",
   "pygments_lexer": "ipython3",
   "version": "3.8.5"
  }
 },
 "nbformat": 4,
 "nbformat_minor": 4
}
