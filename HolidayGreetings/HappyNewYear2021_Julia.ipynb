{
 "cells": [
  {
   "cell_type": "markdown",
   "metadata": {},
   "source": [
    "# Happy New Year 2021\n",
    "## With Julia\n",
    "Author: Sumudu Tennakoon\\\n",
    "Created Date: 2021-01-01"
   ]
  },
  {
   "cell_type": "markdown",
   "metadata": {},
   "source": [
    "## Goal\n",
    "To create a New Year Greeting Card to display in the console/terminal \n",
    "* Displayingthe message \"HAPPY NEW YEAR 2021\".\n",
    "* Decorating borders as top and bottom are Diamonds, left and right are Stars\n",
    "* Using hearts to fill the gaps of consucutive Spaces\n",
    "* Colors: top and bottom borders are in red, message lines including side bornders are blue, green and yellow."
   ]
  },
  {
   "cell_type": "markdown",
   "metadata": {},
   "source": [
    "## Task 1: Setup Display Characters"
   ]
  },
  {
   "cell_type": "code",
   "execution_count": 1,
   "metadata": {},
   "outputs": [
    {
     "name": "stdout",
     "output_type": "stream",
     "text": [
      "HAPPY NEW YEAR 2021\n",
      "Message Length (Characters) = 19\n"
     ]
    }
   ],
   "source": [
    "Message = \"Happy New Year 2021\"\n",
    "# Convert to upper case\n",
    "Message = uppercase(Message)\n",
    "println(Message)\n",
    "println(\"Message Length (Characters) = \", length(Message))"
   ]
  },
  {
   "cell_type": "code",
   "execution_count": 2,
   "metadata": {},
   "outputs": [
    {
     "name": "stdout",
     "output_type": "stream",
     "text": [
      "Number of Unique Characters = 12\n",
      "Set(['P', '1', 'H', 'E', 'W', '0', 'A', 'Y', '2', 'R', ' ', 'N'])\n"
     ]
    }
   ],
   "source": [
    "# Find Unique Characters\n",
    "Characters = Set(Message)\n",
    "println(\"Number of Unique Characters = \", length(Characters))\n",
    "println(Characters)"
   ]
  },
  {
   "cell_type": "markdown",
   "metadata": {},
   "source": [
    "We found \"HAPPY NEWY YEAR 2021\" is made of 12 unique charcters including space"
   ]
  },
  {
   "cell_type": "markdown",
   "metadata": {},
   "source": [
    "### Let's setup those unique characters display ready.\n",
    "The choosen grid for single charcter is 5 x 5"
   ]
  },
  {
   "cell_type": "code",
   "execution_count": 3,
   "metadata": {},
   "outputs": [],
   "source": [
    "H = \"\"\"\n",
    "#   #\n",
    "#   #\n",
    "#####\n",
    "#   #\n",
    "#   #\n",
    "\"\"\";\n",
    "\n",
    "A = \"\"\"\n",
    " ### \n",
    "#   #\n",
    "#####\n",
    "#   #\n",
    "#   #\n",
    "\"\"\";\n",
    "\n",
    "P = \"\"\"\n",
    "#### \n",
    "#   #\n",
    "#### \n",
    "#    \n",
    "#    \n",
    "\"\"\";\n",
    "\n",
    "Y = \"\"\"\n",
    "#   #\n",
    " # # \n",
    "  #  \n",
    "  #  \n",
    "  #  \n",
    "\"\"\";\n",
    "\n",
    "N = \"\"\"\n",
    "#   #\n",
    "##  #\n",
    "# # #\n",
    "#  ##\n",
    "#   #\n",
    "\"\"\";\n",
    "\n",
    "E = \"\"\"\n",
    "#####\n",
    "#    \n",
    "#####\n",
    "#    \n",
    "#####\n",
    "\"\"\";\n",
    "\n",
    "W = \"\"\"\n",
    "#   #\n",
    "#   #\n",
    "# # #\n",
    "## ##\n",
    "#   #\n",
    "\"\"\";\n",
    "\n",
    "R = \"\"\"\n",
    "#### \n",
    "#   #\n",
    "#### \n",
    "#  # \n",
    "#   #\n",
    "\"\"\";\n",
    "\n",
    "space = \"\"\"\n",
    "     \n",
    "     \n",
    "     \n",
    "     \n",
    "     \n",
    "\"\"\";\n",
    "\n",
    "d2 = \"\"\"\n",
    "#### \n",
    "    #\n",
    "   # \n",
    " ##  \n",
    "#####\n",
    "\"\"\";\n",
    "\n",
    "d0 = \"\"\"\n",
    " ### \n",
    "#   #\n",
    "#   #\n",
    "#   #\n",
    " ### \n",
    "\"\"\";\n",
    "\n",
    "d1 = \"\"\"\n",
    "  #  \n",
    " ##  \n",
    "  #  \n",
    "  #  \n",
    " ### \n",
    "\"\"\";"
   ]
  },
  {
   "cell_type": "markdown",
   "metadata": {},
   "source": [
    "### Let's make some decorative characters to make greeting more presentable"
   ]
  },
  {
   "cell_type": "code",
   "execution_count": 4,
   "metadata": {},
   "outputs": [],
   "source": [
    "heart = \"\"\"\n",
    " o o \n",
    "ooooo\n",
    "ooooo\n",
    " ooo \n",
    "  o  \n",
    "\"\"\";\n",
    "\n",
    "diamond = \"\"\"\n",
    "  o  \n",
    " ooo \n",
    "ooooo\n",
    " ooo \n",
    "  o  \n",
    "\"\"\";\n",
    "\n",
    "stars1 = \"\"\"\n",
    "    *\n",
    " *   \n",
    "   * \n",
    "*    \n",
    "  *  \n",
    "\"\"\";\n",
    "\n",
    "stars2 = \"\"\"\n",
    "  *  \n",
    "    *\n",
    "*    \n",
    "   * \n",
    " *   \n",
    "\"\"\";\n",
    "\n",
    "stars3 = \"\"\"\n",
    "*    \n",
    "    *\n",
    " *   \n",
    "   * \n",
    "  * \n",
    "\"\"\";\n",
    "\n",
    "stars4 = \"\"\"\n",
    "   * \n",
    "*    \n",
    "  *  \n",
    " *   \n",
    "    *\n",
    "\"\"\";\n"
   ]
  },
  {
   "cell_type": "markdown",
   "metadata": {},
   "source": [
    "### Functions to finalize characters"
   ]
  },
  {
   "cell_type": "code",
   "execution_count": 5,
   "metadata": {},
   "outputs": [
    {
     "data": {
      "text/plain": [
       "whole_half (generic function with 1 method)"
      ]
     },
     "execution_count": 5,
     "metadata": {},
     "output_type": "execute_result"
    }
   ],
   "source": [
    "function whole_half(n)\n",
    "    if n%2 == 0\n",
    "        return (Int(n/2), Int(n/2))\n",
    "    else\n",
    "        return (Int(n/2+0.5), Int(n/2-0.5))\n",
    "    end   \n",
    "end"
   ]
  },
  {
   "cell_type": "code",
   "execution_count": 6,
   "metadata": {},
   "outputs": [
    {
     "data": {
      "text/plain": [
       "display_charcter (generic function with 2 methods)"
      ]
     },
     "execution_count": 6,
     "metadata": {},
     "output_type": "execute_result"
    }
   ],
   "source": [
    "function display_charcter(s, canvas_size=(7,7))\n",
    "    s = split(s, '\\n')\n",
    "    \n",
    "    character_height = length(s)\n",
    "    character_width = maximum(length.(s))\n",
    "    canvas_height = (character_height>canvas_size[1]) ? character_height : canvas_size[1] \n",
    "    canvas_width = (character_width>canvas_size[2] ) ? character_width : canvas_size[2] \n",
    "\n",
    "    fill_top, fill_bottom = whole_half(canvas_height-character_height)\n",
    "\n",
    "    for i in 1:fill_top\n",
    "        insert!(s, 1, \" \"^canvas_width)\n",
    "    end\n",
    "\n",
    "    for j in 1:fill_bottom\n",
    "        insert!(s, length(s), \" \"^canvas_width)\n",
    "    end\n",
    "\n",
    "    for k in 1:canvas_height\n",
    "        line_legth = length(s[k])\n",
    "        fill_left, fill_right = whole_half(canvas_width-line_legth)\n",
    "\n",
    "        for i in 1:fill_left\n",
    "            s[k] = \" \"*s[k]\n",
    "        end\n",
    "\n",
    "        for j in 1:fill_right\n",
    "            s[k] = s[k]*\" \"\n",
    "        end   \n",
    "    end\n",
    "        \n",
    "    return s\n",
    "end"
   ]
  },
  {
   "cell_type": "code",
   "execution_count": 7,
   "metadata": {},
   "outputs": [
    {
     "data": {
      "text/plain": [
       "7-element Array{SubString{String},1}:\n",
       " \"       \"\n",
       " \" #   # \"\n",
       " \" #   # \"\n",
       " \" ##### \"\n",
       " \" #   # \"\n",
       " \" #   # \"\n",
       " \"       \""
      ]
     },
     "execution_count": 7,
     "metadata": {},
     "output_type": "execute_result"
    }
   ],
   "source": [
    "display_charcter(H)"
   ]
  },
  {
   "cell_type": "markdown",
   "metadata": {},
   "source": [
    "## Task 2: Assemble Lines of the Greeting Message"
   ]
  },
  {
   "cell_type": "code",
   "execution_count": 8,
   "metadata": {},
   "outputs": [
    {
     "data": {
      "text/plain": [
       "5-element Array{Array{SubString{String},1},1}:\n",
       " [\"       \", \" #   # \", \" #   # \", \" ##### \", \" #   # \", \" #   # \", \"       \"]\n",
       " [\"       \", \"  ###  \", \" #   # \", \" ##### \", \" #   # \", \" #   # \", \"       \"]\n",
       " [\"       \", \" ####  \", \" #   # \", \" ####  \", \" #     \", \" #     \", \"       \"]\n",
       " [\"       \", \" ####  \", \" #   # \", \" ####  \", \" #     \", \" #     \", \"       \"]\n",
       " [\"       \", \" #   # \", \"  # #  \", \"   #   \", \"   #   \", \"   #   \", \"       \"]"
      ]
     },
     "execution_count": 8,
     "metadata": {},
     "output_type": "execute_result"
    }
   ],
   "source": [
    "characters = display_charcter.([H,A,P,P,Y])"
   ]
  },
  {
   "cell_type": "code",
   "execution_count": 9,
   "metadata": {},
   "outputs": [
    {
     "data": {
      "text/plain": [
       "7-element Array{String,1}:\n",
       " \"                                   \"\n",
       " \" #   #   ###   ####   ####   #   # \"\n",
       " \" #   #  #   #  #   #  #   #   # #  \"\n",
       " \" #####  #####  ####   ####     #   \"\n",
       " \" #   #  #   #  #      #        #   \"\n",
       " \" #   #  #   #  #      #        #   \"\n",
       " \"                                   \""
      ]
     },
     "execution_count": 9,
     "metadata": {},
     "output_type": "execute_result"
    }
   ],
   "source": [
    "line = characters[1]\n",
    "\n",
    "for c in characters[2:end]\n",
    "    line = line.*c\n",
    "end\n",
    "\n",
    "line"
   ]
  },
  {
   "cell_type": "markdown",
   "metadata": {},
   "source": [
    "## Task 3: Print Message Line"
   ]
  },
  {
   "cell_type": "code",
   "execution_count": 10,
   "metadata": {},
   "outputs": [
    {
     "name": "stdout",
     "output_type": "stream",
     "text": [
      "                                   \n",
      " #   #   ###   ####   ####   #   # \n",
      " #   #  #   #  #   #  #   #   # #  \n",
      " #####  #####  ####   ####     #   \n",
      " #   #  #   #  #      #        #   \n",
      " #   #  #   #  #      #        #   \n",
      "                                   \n"
     ]
    }
   ],
   "source": [
    "for l in line\n",
    "    println(l)\n",
    "end"
   ]
  },
  {
   "cell_type": "markdown",
   "metadata": {},
   "source": [
    "## Task 4: Add Colors to Printed Message Line"
   ]
  },
  {
   "cell_type": "code",
   "execution_count": 11,
   "metadata": {},
   "outputs": [
    {
     "name": "stdout",
     "output_type": "stream",
     "text": [
      "\u001b[32m                                   \n",
      "\u001b[32m #   #   ###   ####   ####   #   # \n",
      "\u001b[32m #   #  #   #  #   #  #   #   # #  \n",
      "\u001b[32m #####  #####  ####   ####     #   \n",
      "\u001b[32m #   #  #   #  #      #        #   \n",
      "\u001b[32m #   #  #   #  #      #        #   \n",
      "\u001b[32m                                   \n"
     ]
    }
   ],
   "source": [
    "using Crayons\n",
    "\n",
    "for l in line\n",
    "    println(Crayon(foreground = :green),l)\n",
    "end\n"
   ]
  },
  {
   "cell_type": "markdown",
   "metadata": {},
   "source": [
    "## Task 5: Create a Function to Print a Given Line of Charcters (Combine codes from Task 2-4)"
   ]
  },
  {
   "cell_type": "code",
   "execution_count": 12,
   "metadata": {},
   "outputs": [
    {
     "data": {
      "text/plain": [
       "print_decorated_line (generic function with 1 method)"
      ]
     },
     "execution_count": 12,
     "metadata": {},
     "output_type": "execute_result"
    }
   ],
   "source": [
    "using Crayons\n",
    "\n",
    "function print_decorated_line(characters, color)\n",
    "    characters = display_charcter.(characters)\n",
    "    \n",
    "    line = characters[1]\n",
    "    for c in characters[2:end]\n",
    "        line = line.*c\n",
    "    end\n",
    "    \n",
    "    for l in line\n",
    "        println(Crayon(foreground = color),l)\n",
    "    end\n",
    "    \n",
    "end"
   ]
  },
  {
   "cell_type": "code",
   "execution_count": 13,
   "metadata": {},
   "outputs": [
    {
     "name": "stdout",
     "output_type": "stream",
     "text": [
      "\u001b[34m                                   \n",
      "\u001b[34m #   #   ###   ####   ####   #   # \n",
      "\u001b[34m #   #  #   #  #   #  #   #   # #  \n",
      "\u001b[34m #####  #####  ####   ####     #   \n",
      "\u001b[34m #   #  #   #  #      #        #   \n",
      "\u001b[34m #   #  #   #  #      #        #   \n",
      "\u001b[34m                                   \n"
     ]
    }
   ],
   "source": [
    "print_decorated_line([H,A,P,P,Y], :blue)"
   ]
  },
  {
   "cell_type": "markdown",
   "metadata": {},
   "source": [
    "## Task 6: Assemble The Greeting Message\n",
    "* Width : 8 charcters\n",
    "* Height : 5 lines\n",
    "* Top Border : Diamonds\n",
    "* Bottom Border: Diamonds\n",
    "* Left Border : Stars\n",
    "* Right Border : Stars\n",
    "* Use Hearts to fill the gaps of Consucutive Spaces"
   ]
  },
  {
   "cell_type": "code",
   "execution_count": 14,
   "metadata": {},
   "outputs": [
    {
     "name": "stdout",
     "output_type": "stream",
     "text": [
      "\u001b[31m                                                                      \n",
      "\u001b[31m   o      o      o      o      o      o      o      o      o      o   \n",
      "\u001b[31m  ooo    ooo    ooo    ooo    ooo    ooo    ooo    ooo    ooo    ooo  \n",
      "\u001b[31m ooooo  ooooo  ooooo  ooooo  ooooo  ooooo  ooooo  ooooo  ooooo  ooooo \n",
      "\u001b[31m  ooo    ooo    ooo    ooo    ooo    ooo    ooo    ooo    ooo    ooo  \n",
      "\u001b[31m   o      o      o      o      o      o      o      o      o      o   \n",
      "\u001b[31m                                                                      \n",
      "\u001b[34m                                                                      \n",
      "\u001b[34m     *  #   #   ###   ####   ####   #   #          o o            *   \n",
      "\u001b[34m  *     #   #  #   #  #   #  #   #   # #          ooooo             * \n",
      "\u001b[34m    *   #####  #####  ####   ####     #           ooooo         *     \n",
      "\u001b[34m *      #   #  #   #  #      #        #            ooo             *  \n",
      "\u001b[34m   *    #   #  #   #  #      #        #             o            *    \n",
      "\u001b[34m                                                                      \n",
      "\u001b[32m                                                                      \n",
      "\u001b[32m *      #   #  #####  #   #         #   #  #####   ###   ####       * \n",
      "\u001b[32m     *  ##  #  #      #   #          # #   #      #   #  #   #   *    \n",
      "\u001b[32m  *     # # #  #####  # # #           #    #####  #####  ####      *  \n",
      "\u001b[32m    *   #  ##  #      ## ##           #    #      #   #  #  #   *     \n",
      "\u001b[32m    *   #   #  #####  #   #           #    #####  #   #  #   #    *   \n",
      "\u001b[32m                                                                      \n",
      "\u001b[33m                                                                      \n",
      "\u001b[33m   *            o o    o o          ####    ###   ####     #       *  \n",
      "\u001b[33m     *         ooooo  ooooo             #  #   #      #   ##    *     \n",
      "\u001b[33m *             ooooo  ooooo            #   #   #     #     #      *   \n",
      "\u001b[33m    *           ooo    ooo           ##    #   #   ##      #     *    \n",
      "\u001b[33m  *              o      o           #####   ###   #####   ###       * \n",
      "\u001b[33m                                                                      \n",
      "\u001b[31m                                                                      \n",
      "\u001b[31m   o      o      o      o      o      o      o      o      o      o   \n",
      "\u001b[31m  ooo    ooo    ooo    ooo    ooo    ooo    ooo    ooo    ooo    ooo  \n",
      "\u001b[31m ooooo  ooooo  ooooo  ooooo  ooooo  ooooo  ooooo  ooooo  ooooo  ooooo \n",
      "\u001b[31m  ooo    ooo    ooo    ooo    ooo    ooo    ooo    ooo    ooo    ooo  \n",
      "\u001b[31m   o      o      o      o      o      o      o      o      o      o   \n",
      "\u001b[31m                                                                      \n"
     ]
    }
   ],
   "source": [
    "characters = [diamond, diamond, diamond, diamond, diamond, diamond, diamond, diamond, diamond, diamond]\n",
    "print_decorated_line(characters, :red)\n",
    "\n",
    "characters = [stars1, H,A,P,P,Y, space, heart, space, stars2]\n",
    "print_decorated_line(characters, :blue)\n",
    "\n",
    "characters = [stars3, N, E, W, space, Y, E, A, R, stars1]\n",
    "print_decorated_line(characters, :green)\n",
    "\n",
    "characters = [stars2, space, heart, heart, space, d2, d0, d2, d1, stars4]\n",
    "print_decorated_line(characters, :yellow)\n",
    "\n",
    "characters = [diamond, diamond, diamond, diamond, diamond, diamond, diamond, diamond, diamond, diamond]\n",
    "print_decorated_line(characters, :red)"
   ]
  },
  {
   "cell_type": "markdown",
   "metadata": {},
   "source": [
    "<hr>\n",
    "©2021 Sumudu Tennakoon"
   ]
  },
  {
   "cell_type": "code",
   "execution_count": null,
   "metadata": {},
   "outputs": [],
   "source": []
  }
 ],
 "metadata": {
  "@webio": {
   "lastCommId": null,
   "lastKernelId": null
  },
  "kernelspec": {
   "display_name": "Julia 1.5.2",
   "language": "julia",
   "name": "julia-1.5"
  },
  "language_info": {
   "file_extension": ".jl",
   "mimetype": "application/julia",
   "name": "julia",
   "version": "1.5.2"
  }
 },
 "nbformat": 4,
 "nbformat_minor": 4
}
