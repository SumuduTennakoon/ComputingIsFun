{
 "cells": [
  {
   "cell_type": "markdown",
   "metadata": {},
   "source": [
    "# Merry Christmas and Happy Holidays !\n",
    "## Using Python\n",
    "Author: Sumudu Tennakoon\\\n",
    "Created Date: 2020-12-24"
   ]
  },
  {
   "cell_type": "markdown",
   "metadata": {},
   "source": [
    "## Goal\n",
    "To create a Greeting Card in the console output with \n",
    "* An illustration of a Christmas tree using characters.\n",
    "* Randomly distributed Ornaments and Decorations.\n",
    "* a start in the top of of the tree\n",
    "* A border at the bottom of the leaves\n",
    "* A base attached to the tree\n",
    "* Greeting message \"MERRY CHRISTMAS AND HAPPY HOLIDAYS\"\n",
    "* Colors: red star green tree, a blue border at the bottom, magenta base, and the message in red."
   ]
  },
  {
   "cell_type": "markdown",
   "metadata": {},
   "source": [
    "## Task 1: Setup Tree Parameters (width, body height, and full hight with the base)"
   ]
  },
  {
   "cell_type": "code",
   "execution_count": 1,
   "metadata": {},
   "outputs": [],
   "source": [
    "width = 25 # Tree width\n",
    "body_height = 25 # Height without stand\n",
    "full_height = 31 # Total height"
   ]
  },
  {
   "cell_type": "markdown",
   "metadata": {},
   "source": [
    "## Task 2: Print Basic Tree Body"
   ]
  },
  {
   "cell_type": "code",
   "execution_count": 2,
   "metadata": {},
   "outputs": [],
   "source": [
    "tree = ''\n",
    "for x in range(1, full_height, 2):\n",
    "    s = ''\n",
    "    if x == 1 :\n",
    "        s='*'\n",
    "        print(s.center(width)) \n",
    "    elif x < body_height:        \n",
    "        for y in range(0,x):                \n",
    "            s = s + '^'\n",
    "        print(s.center(width)) "
   ]
  },
  {
   "cell_type": "markdown",
   "metadata": {},
   "source": [
    "## Task 3: Add Bottom Border Ribbon, Base, and Ground"
   ]
  },
  {
   "cell_type": "code",
   "execution_count": 3,
   "metadata": {},
   "outputs": [
    {
     "name": "stdout",
     "output_type": "stream",
     "text": [
      "            *            \n",
      "           ^^^           \n",
      "          ^^^^^          \n",
      "         ^^^^^^^         \n",
      "        ^^^^^^^^^        \n",
      "       ^^^^^^^^^^^       \n",
      "      ^^^^^^^^^^^^^      \n",
      "     ^^^^^^^^^^^^^^^     \n",
      "    ^^^^^^^^^^^^^^^^^    \n",
      "   ^^^^^^^^^^^^^^^^^^^   \n",
      "  ^^^^^^^^^^^^^^^^^^^^^  \n",
      " ^^^^^^^^^^^^^^^^^^^^^^^ \n",
      "#########################\n",
      "            II           \n",
      "            II           \n",
      "~~~~~~~~~~~~~~~~~~~~~~~~~\n"
     ]
    }
   ],
   "source": [
    "tree = ''\n",
    "for x in range(1, full_height, 2):\n",
    "    s = ''\n",
    "    if x == 1 :\n",
    "        s='*'\n",
    "        print(s.center(width)) \n",
    "    elif x < body_height:        \n",
    "        for y in range(0,x):                \n",
    "            s = s + '^'\n",
    "        print(s.center(width)) \n",
    "    elif x == body_height:\n",
    "        s = s + '#'*width\n",
    "        print(s) \n",
    "    elif x > body_height and x < full_height:\n",
    "        s = s + 'II'\n",
    "        print(s.center(width)) \n",
    "\n",
    "print(('~'*width).center(width))"
   ]
  },
  {
   "cell_type": "markdown",
   "metadata": {},
   "source": [
    "## Task 4: Add Ornaments"
   ]
  },
  {
   "cell_type": "code",
   "execution_count": 4,
   "metadata": {},
   "outputs": [
    {
     "name": "stdout",
     "output_type": "stream",
     "text": [
      "            *            \n",
      "           @o^           \n",
      "          o^^o^          \n",
      "         ^^^^^^^         \n",
      "        ^^^+^^^^^        \n",
      "       ^^^^^^^^^^^       \n",
      "      ^+^^^^^^^^^^^      \n",
      "     ^o^^^@^^^^^^^o^     \n",
      "    ^^^^^^^^^^^+^^^^^    \n",
      "   ^^^^^^^^^^^^^^^^^^@   \n",
      "  ^^^^^^^^+^^oo^^^^^^^^  \n",
      " +^^^^^^^^^^^^^^^^^^o^o^ \n",
      "#########################\n",
      "            II           \n",
      "            II           \n",
      "~~~~~~~~~~~~~~~~~~~~~~~~~\n"
     ]
    }
   ],
   "source": [
    "from random import randint\n",
    "\n",
    "tree = ''\n",
    "for x in range(1, full_height, 2):\n",
    "    s = ''\n",
    "    if x == 1 :\n",
    "        s='*'\n",
    "        print(s.center(width)) \n",
    "    elif x < body_height:        \n",
    "        for y in range(0,x):                \n",
    "            b = randint(0, width) # Location to add random decoration 1\n",
    "            a = randint(0, width) # Add random decoration 2\n",
    "            c = randint(0, width) # Add random decoration 3\n",
    "            if y==b:\n",
    "                s = s + 'o'\n",
    "            elif y==a:\n",
    "                s = s + '@'\n",
    "            elif y==c:\n",
    "                s = s + '+'\n",
    "            else:\n",
    "                s = s + '^'\n",
    "        print(s.center(width)) \n",
    "    elif x == body_height:\n",
    "        s = s + '#'*width\n",
    "        print(s) \n",
    "    elif x > body_height and x < full_height:\n",
    "        s = s + 'II'\n",
    "        print(s.center(width)) \n",
    "\n",
    "print(('~'*width).center(width))"
   ]
  },
  {
   "cell_type": "markdown",
   "metadata": {},
   "source": [
    "## Task 5: Add Greeting Message"
   ]
  },
  {
   "cell_type": "code",
   "execution_count": 5,
   "metadata": {},
   "outputs": [
    {
     "name": "stdout",
     "output_type": "stream",
     "text": [
      "            *            \n",
      "           ^^o           \n",
      "          ^^^^^          \n",
      "         ^^^^oo^         \n",
      "        ^^^^^^^o^        \n",
      "       ^^^^^^^^^oo       \n",
      "      ^^^^^^^@^^^^^      \n",
      "     ^^^^^^^o^^^^^^^     \n",
      "    ^^^^^^^^^^+^^^o^^    \n",
      "   ^^^@+^^^^^^^+^^^+@^   \n",
      "  ^^^^+^^^^+^^o^^^^^^^^  \n",
      " ^o^^@^^^^^^^^^^^^o^^^^^ \n",
      "#########################\n",
      "            II           \n",
      "            II           \n",
      "~~~~~~~~~~~~~~~~~~~~~~~~~\n",
      "     MERRY CHRISTMAS     \n",
      "           AND           \n",
      "     HAPPY HOLIDAYS !    \n",
      "~~~~~~~~~~~~~~~~~~~~~~~~~\n"
     ]
    }
   ],
   "source": [
    "from random import randint\n",
    "\n",
    "tree = ''\n",
    "for x in range(1, full_height, 2):\n",
    "    s = ''\n",
    "    if x == 1 :\n",
    "        s='*'\n",
    "        print(s.center(width)) \n",
    "    elif x < body_height:        \n",
    "        for y in range(0,x):                \n",
    "            b = randint(0, width) # Location to add random decoration 1\n",
    "            a = randint(0, width) # Add random decoration 2\n",
    "            c = randint(0, width) # Add random decoration 3\n",
    "            if y==b:\n",
    "                s = s + 'o'\n",
    "            elif y==a:\n",
    "                s = s + '@'\n",
    "            elif y==c:\n",
    "                s = s + '+'\n",
    "            else:\n",
    "                s = s + '^'\n",
    "        print(s.center(width)) \n",
    "    elif x == body_height:\n",
    "        s = s + '#'*width\n",
    "        print(s) \n",
    "    elif x > body_height and x < full_height:\n",
    "        s = s + 'II'\n",
    "        print(s.center(width)) \n",
    "\n",
    "print(('~'*width).center(width))\n",
    "print('MERRY CHRISTMAS'.center(width)) \n",
    "print('AND'.center(width))\n",
    "print('HAPPY HOLIDAYS !'.center(width))\n",
    "print(('~'*width).center(width)) "
   ]
  },
  {
   "cell_type": "markdown",
   "metadata": {},
   "source": [
    "## Task 6: Add colors"
   ]
  },
  {
   "cell_type": "code",
   "execution_count": 6,
   "metadata": {},
   "outputs": [
    {
     "name": "stdout",
     "output_type": "stream",
     "text": [
      "\u001b[31m            *            \n",
      "\u001b[32m           ^^^           \n",
      "\u001b[32m          ^^^^^          \n",
      "\u001b[32m         ^^^^^^^         \n",
      "\u001b[32m        ^^^^^^^^^        \n",
      "\u001b[32m       ^^^^^^+^^+^       \n",
      "\u001b[32m      ^^^^^^^@^^^^^      \n",
      "\u001b[32m     +^^@^^^^^^^^^^^     \n",
      "\u001b[32m    ^^^^^^^^^^^^^^^^o    \n",
      "\u001b[32m   ^^^^^^o@^^^o^^^^^^^   \n",
      "\u001b[32m  ^^^@+^^^^o^^^++^^^^^^  \n",
      "\u001b[32m ^^^+o@^^^^^@^^^^^^^@^^@ \n",
      "\u001b[34m#########################\n",
      "\u001b[35m            II           \n",
      "\u001b[35m            II           \n",
      "~~~~~~~~~~~~~~~~~~~~~~~~~\n",
      "\u001b[31m     MERRY CHRISTMAS     \n",
      "\u001b[31m           AND           \n",
      "\u001b[31m     HAPPY HOLIDAYS !    \n",
      "~~~~~~~~~~~~~~~~~~~~~~~~~\n"
     ]
    }
   ],
   "source": [
    "from colorama import * # To change font colors (https://github.com/tartley/colorama)\n",
    "from random import randint\n",
    "\n",
    "width = 25 # Tree width\n",
    "body_height = 25 # Height without stand\n",
    "full_height = 31 # Total height\n",
    "\n",
    "tree = ''\n",
    "for x in range(1, full_height, 2):\n",
    "    s = ''\n",
    "    if x == 1 :\n",
    "        s='*'\n",
    "        print(Fore.RED + s.center(width)) \n",
    "    elif x < body_height:        \n",
    "        for y in range(0,x):\n",
    "            b = randint(0, width) # Location to add random decoration 1\n",
    "            a = randint(0, width) # Add random decoration 2\n",
    "            c = randint(0, width) # Add random decoration 3\n",
    "            if y==b:\n",
    "                s = s + 'o'\n",
    "            elif y==a:\n",
    "                s = s + '@'\n",
    "            elif y==c:\n",
    "                s = s + '+'\n",
    "            else:\n",
    "                s = s + '^'\n",
    "        print(Fore.GREEN + s.center(width)) \n",
    "    elif x == body_height:\n",
    "        s = s + '#'*width\n",
    "        print(Fore.BLUE + s.center(width)) \n",
    "    elif x > body_height and x < full_height:\n",
    "        s = s + 'II'\n",
    "        print(Fore.MAGENTA + s.center(width)) \n",
    "\n",
    "print(('~'*width).center(width))  \n",
    "print(Fore.RED + 'MERRY CHRISTMAS'.center(width)) \n",
    "print(Fore.RED + 'AND'.center(width))\n",
    "print(Fore.RED + 'HAPPY HOLIDAYS !'.center(width))\n",
    "print(('~'*width).center(width))  "
   ]
  },
  {
   "cell_type": "markdown",
   "metadata": {},
   "source": [
    "## Bonus \n",
    "* Add new Ornament\n",
    "* Add Colors to Ornaments (printing characters individually)"
   ]
  },
  {
   "cell_type": "code",
   "execution_count": 7,
   "metadata": {},
   "outputs": [
    {
     "name": "stdout",
     "output_type": "stream",
     "text": [
      "\n",
      "            \u001b[31m*\n",
      "           \u001b[32m^\u001b[32m^\u001b[32m^\n",
      "          \u001b[33mo\u001b[32m^\u001b[32m^\u001b[32m^\u001b[32m^\n",
      "         \u001b[32m^\u001b[32m^\u001b[32m^\u001b[32m^\u001b[32m^\u001b[32m^\u001b[32m^\n",
      "        \u001b[33mo\u001b[32m^\u001b[32m^\u001b[32m^\u001b[36m@\u001b[32m^\u001b[32m^\u001b[32m^\u001b[32m^\n",
      "       \u001b[32m^\u001b[32m^\u001b[32m^\u001b[32m^\u001b[32m^\u001b[32m^\u001b[32m^\u001b[32m^\u001b[32m^\u001b[32m^\u001b[32m^\n",
      "      \u001b[32m^\u001b[32m^\u001b[32m^\u001b[32m^\u001b[32m^\u001b[32m^\u001b[32m^\u001b[32m^\u001b[32m^\u001b[32m^\u001b[32m^\u001b[32m^\u001b[36m@\n",
      "     \u001b[32m^\u001b[32m^\u001b[32m^\u001b[32m^\u001b[32m^\u001b[32m^\u001b[32m^\u001b[32m^\u001b[32m^\u001b[32m^\u001b[32m^\u001b[32m^\u001b[32m^\u001b[32m^\u001b[32m^\n",
      "    \u001b[36m@\u001b[32m^\u001b[32m^\u001b[31m+\u001b[32m^\u001b[32m^\u001b[32m^\u001b[32m^\u001b[32m^\u001b[32m^\u001b[32m^\u001b[32m^\u001b[32m^\u001b[32m^\u001b[32m^\u001b[32m^\u001b[32m^\n",
      "   \u001b[31m+\u001b[32m^\u001b[32m^\u001b[32m^\u001b[32m^\u001b[32m^\u001b[32m^\u001b[32m^\u001b[32m^\u001b[32m^\u001b[36m@\u001b[36m@\u001b[32m^\u001b[32m^\u001b[32m^\u001b[32m^\u001b[32m^\u001b[36m@\u001b[32m^\n",
      "  \u001b[33mo\u001b[32m^\u001b[32m^\u001b[32m^\u001b[32m^\u001b[32m^\u001b[32m^\u001b[32m^\u001b[32m^\u001b[32m^\u001b[32m^\u001b[33mo\u001b[32m^\u001b[32m^\u001b[32m^\u001b[32m^\u001b[32m^\u001b[32m^\u001b[32m^\u001b[32m^\u001b[32m^\n",
      " \u001b[32m^\u001b[32m^\u001b[32m^\u001b[32m^\u001b[32m^\u001b[32m^\u001b[32m^\u001b[32m^\u001b[32m^\u001b[32m^\u001b[32m^\u001b[32m^\u001b[32m^\u001b[32m^\u001b[32m^\u001b[32m^\u001b[32m^\u001b[32m^\u001b[32m^\u001b[32m^\u001b[32m^\u001b[32m^\u001b[32m^\n",
      "\u001b[34m#########################\n",
      "            \u001b[35mII\n",
      "            \u001b[35mII\n",
      "~~~~~~~~~~~~~~~~~~~~~~~~~\n",
      "\u001b[31m     MERRY CHRISTMAS     \n",
      "\u001b[31m           AND           \n",
      "\u001b[31m     HAPPY HOLIDAYS !    \n",
      "~~~~~~~~~~~~~~~~~~~~~~~~~\n"
     ]
    }
   ],
   "source": [
    "from colorama import * # To change font colors (https://github.com/tartley/colorama)\n",
    "from random import randint\n",
    "\n",
    "width = 25 # Tree width\n",
    "body_height = 25 # Height without stand\n",
    "full_height = 31 # Total height\n",
    "\n",
    "tree = ''\n",
    "for x in range(1, full_height, 2):\n",
    "    s = ''\n",
    "    center = int((width-1)/2)\n",
    "    padding = center-int((x-1)/2)\n",
    "    \n",
    "    print('\\n', end='') \n",
    "    \n",
    "    if x == 1 :\n",
    "        print(' '*padding, end='') \n",
    "        print(Fore.RED + '*', end='') \n",
    "    elif x < body_height:   \n",
    "        print(' '*padding, end='')\n",
    "        for y in range(0,x):\n",
    "            b = randint(0, width) # Location to add random decoration 1\n",
    "            a = randint(0, width) # Add random decoration 2\n",
    "            c = randint(0, width) # Add random decoration 3\n",
    "            if y==b:\n",
    "                print(Fore.YELLOW + 'o', end='') \n",
    "            elif y==a:\n",
    "                print(Fore.CYAN + '@', end='') \n",
    "            elif y==c:\n",
    "                print(Fore.RED + '+', end='') \n",
    "            else:\n",
    "                print(Fore.GREEN + '^', end='')  \n",
    "        \n",
    "        \n",
    "    elif x == body_height:\n",
    "        print(' '*padding, end='') \n",
    "        print(Fore.BLUE + '#'*width, end='') \n",
    "    elif x > body_height and x < full_height:\n",
    "        print(' '*center, end='') \n",
    "        print(Fore.MAGENTA + 'II', end='')  \n",
    "        \n",
    "print('\\n', end='') \n",
    "print(('~'*width).center(width))  \n",
    "print(Fore.RED + 'MERRY CHRISTMAS'.center(width)) \n",
    "print(Fore.RED + 'AND'.center(width))\n",
    "print(Fore.RED + 'HAPPY HOLIDAYS !'.center(width))\n",
    "print(('~'*width).center(width))  "
   ]
  },
  {
   "cell_type": "markdown",
   "metadata": {},
   "source": [
    "<hr>\n",
    "©2020 Sumudu Tennakoon"
   ]
  }
 ],
 "metadata": {
  "@webio": {
   "lastCommId": null,
   "lastKernelId": null
  },
  "kernelspec": {
   "display_name": "Python 3",
   "language": "python",
   "name": "python3"
  },
  "language_info": {
   "codemirror_mode": {
    "name": "ipython",
    "version": 3
   },
   "file_extension": ".py",
   "mimetype": "text/x-python",
   "name": "python",
   "nbconvert_exporter": "python",
   "pygments_lexer": "ipython3",
   "version": "3.8.5"
  }
 },
 "nbformat": 4,
 "nbformat_minor": 4
}
