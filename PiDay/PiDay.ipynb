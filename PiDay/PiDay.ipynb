{
 "cells": [
  {
   "cell_type": "markdown",
   "metadata": {},
   "source": [
    "# Gregory-Leibniz Series\n",
    "The Gregory series is a pi formula found by Gregory and Leibniz and obtained by plugging  into the Leibniz series, \n",
    "http://mathworld.wolfram.com/GregorySeries.html\n",
    "http://mathworld.wolfram.com/Pi.html\n",
    "http://mathworld.wolfram.com/PiFormulas.html\n",
    "Pi Day: 03/14 of each year"
   ]
  },
  {
   "cell_type": "code",
   "execution_count": 1,
   "metadata": {},
   "outputs": [],
   "source": [
    "from sympy import symbols, Eq, S, Sum, oo, init_printing\n",
    "n  = symbols('n', integer=True)\n",
    "init_printing()"
   ]
  },
  {
   "cell_type": "code",
   "execution_count": 2,
   "metadata": {},
   "outputs": [
    {
     "data": {
      "image/png": "[encoded data removed]",
      "text/latex": [
       "$$\\pi = 4 \\sum_{n=1}^{\\infty} \\frac{\\left(-1\\right)^{n + 1}}{2 n - 1}$$"
      ],
      "text/plain": [
       "        ∞            \n",
       "       ____          \n",
       "       ╲             \n",
       "        ╲       n + 1\n",
       "         ╲  (-1)     \n",
       "π = 4⋅   ╱  ─────────\n",
       "        ╱    2⋅n - 1 \n",
       "       ╱             \n",
       "       ‾‾‾‾          \n",
       "      n = 1          "
      ]
     },
     "execution_count": 2,
     "metadata": {},
     "output_type": "execute_result"
    }
   ],
   "source": [
    "Eq(S.Pi, 4 * Sum(( ( (-1)**(n+1) ) / (2*n-1)), (n,1,oo)))"
   ]
  },
  {
   "cell_type": "code",
   "execution_count": 3,
   "metadata": {},
   "outputs": [],
   "source": [
    "from timeit import default_timer as timer\n",
    "import numpy as np"
   ]
  },
  {
   "cell_type": "markdown",
   "metadata": {},
   "source": [
    "## Function to calculate Pi"
   ]
  },
  {
   "cell_type": "markdown",
   "metadata": {},
   "source": [
    "### Serial Processering"
   ]
  },
  {
   "cell_type": "code",
   "execution_count": 4,
   "metadata": {},
   "outputs": [],
   "source": [
    "def CalculatePi_Serial(N): # Do not recomend to use with larget N values\n",
    "    start = timer()\n",
    "    pi = 0\n",
    "    for n in range(1, N):\n",
    "        pi += (4.0 * ( (-1)**(n+1) ) / (2*n-1) ) \n",
    "    dt = timer() - start\n",
    "    print('Serial calculate time   {:e} s'.format(dt))\n",
    "    return pi"
   ]
  },
  {
   "cell_type": "markdown",
   "metadata": {},
   "source": [
    "### Parallel Processering\n",
    "#### Using Numba (https://numba.pydata.org/)"
   ]
  },
  {
   "cell_type": "code",
   "execution_count": 5,
   "metadata": {},
   "outputs": [],
   "source": [
    "from numba import autojit\n",
    "@autojit\n",
    "def CalculatePi_Parallel(N):\n",
    "    start = timer()\n",
    "    pi = 0\n",
    "    for n in range(1, N):\n",
    "        pi += (4.0 * ( (-1)**(n+1) ) / (2*n-1) ) \n",
    "    dt = timer() - start\n",
    "    print('Parallel calculate time {:e} s'.format(dt))\n",
    "    return pi"
   ]
  },
  {
   "cell_type": "markdown",
   "metadata": {},
   "source": [
    "## Sample Pi Claculation (Serial)"
   ]
  },
  {
   "cell_type": "code",
   "execution_count": 6,
   "metadata": {},
   "outputs": [
    {
     "name": "stdout",
     "output_type": "stream",
     "text": [
      "Serial calculate time   5.346737e-03 s\n",
      "  N = 10000\n",
      "* Gregory-Leibniz Series = 3.1416926635905345\n",
      "* Pi value in Numpy      = 3.141592653589793\n",
      "* Difference             = 1.000100e-04\n",
      "* % Difference           = 0.003183%\n"
     ]
    }
   ],
   "source": [
    "N =10000\n",
    "PI = CalculatePi_Serial(N)\n",
    "difference = PI-np.pi\n",
    "print('  N = {}'.format(N))\n",
    "print('* Gregory-Leibniz Series = {}'.format(PI))\n",
    "print('* Pi value in Numpy      = {}'.format(np.pi))\n",
    "print('* Difference             = {:e}'.format(difference))\n",
    "print('* % Difference           = {:%}'.format(difference/np.pi))"
   ]
  },
  {
   "cell_type": "markdown",
   "metadata": {},
   "source": [
    "## Run time performance Parallel vs. Serial "
   ]
  },
  {
   "cell_type": "code",
   "execution_count": 7,
   "metadata": {},
   "outputs": [
    {
     "name": "stdout",
     "output_type": "stream",
     "text": [
      "Serial calculate time   6.469327e-01 s\n",
      "Parallel calculate time 1.385321e-01 s\n"
     ]
    }
   ],
   "source": [
    "N =1000000\n",
    "PI_S = CalculatePi_Serial(N)\n",
    "PI_P = CalculatePi_Parallel(N)"
   ]
  },
  {
   "cell_type": "markdown",
   "metadata": {},
   "source": [
    "## Comparing Accuract vs. N"
   ]
  },
  {
   "cell_type": "code",
   "execution_count": 8,
   "metadata": {},
   "outputs": [
    {
     "name": "stdout",
     "output_type": "stream",
     "text": [
      "Parallel calculate time 9.873287e-06 s\n",
      "Parallel calculate time 9.979072e-05 s\n",
      "Parallel calculate time 1.409059e-03 s\n",
      "Parallel calculate time 1.146712e-02 s\n",
      "Parallel calculate time 1.213155e-01 s\n",
      "Parallel calculate time 9.106245e-01 s\n",
      "Parallel calculate time 8.647477e+00 s\n"
     ]
    }
   ],
   "source": [
    "N = np.array([1000, 10000, 100000, 1000000, 10000000, 100000000, 1000000000])\n",
    "PI = []\n",
    "for n in N:\n",
    "    PI.append(CalculatePi_Parallel(n))\n",
    "PI = np.array(PI)\n",
    "NumpyPI = np.pi\n",
    "Difference = (PI-NumpyPI)/NumpyPI"
   ]
  },
  {
   "cell_type": "code",
   "execution_count": 9,
   "metadata": {},
   "outputs": [
    {
     "name": "stdout",
     "output_type": "stream",
     "text": [
      "* Pi [N =               1000] = 3.14259365434004411810064993915148079 (0.03186284%)\n",
      "* Pi [N =              10000] = 3.14169266359053445114568603457883 (0.00318342%)\n",
      "* Pi [N =             100000] = 3.14160265368972035915362539526540786 (0.00031831%)\n",
      "* Pi [N =            1000000] = 3.14159365359077424884048923559021205 (0.00003183%)\n",
      "* Pi [N =           10000000] = 3.14159275358980139003506337758153677 (0.00000318%)\n",
      "* Pi [N =          100000000] = 3.14159266358932587337449149345047772 (0.00000032%)\n",
      "* Pi [N =         1000000000] = 3.14159265458805059267888282192870975 (0.00000003%)\n",
      "* Pi [Numpy]                  = 3.14159265358979311599796346854418516\n"
     ]
    }
   ],
   "source": [
    "Difference = abs(PI-NumpyPI)/NumpyPI\n",
    "for i in range(len(N)):\n",
    "    print('* Pi [N = {:18}] = {:.36} ({:.8%})'.format(N[i], PI[i], Difference[i]))\n",
    "print('* Pi [Numpy]                  = {:.36}'.format(np.pi))"
   ]
  },
  {
   "cell_type": "code",
   "execution_count": 10,
   "metadata": {},
   "outputs": [
    {
     "data": {
      "text/plain": [
       "<Figure size 640x480 with 1 Axes>"
      ]
     },
     "metadata": {},
     "output_type": "display_data"
    }
   ],
   "source": [
    "import matplotlib.pyplot as plt\n",
    "plt.plot(N, PI, \"r-o\")\n",
    "plt.axhline(np.pi)\n",
    "plt.xscale('log')\n",
    "plt.xlabel('N')\n",
    "plt.ylabel('Pi')\n",
    "plt.show()"
   ]
  },
  {
   "cell_type": "code",
   "execution_count": 11,
   "metadata": {},
   "outputs": [
    {
     "data": {
      "image/png": "[encoded data removed]",
      "text/plain": [
       "<Figure size 432x288 with 1 Axes>"
      ]
     },
     "metadata": {},
     "output_type": "display_data"
    }
   ],
   "source": [
    "plt.plot(N[3:], PI[3:], \"r-o\")\n",
    "plt.axhline(np.pi)\n",
    "plt.xscale('log')\n",
    "plt.xlabel('N')\n",
    "plt.ylabel('Pi')\n",
    "plt.show()"
   ]
  },
  {
   "cell_type": "code",
   "execution_count": 12,
   "metadata": {
    "scrolled": true
   },
   "outputs": [
    {
     "data": {
      "image/png": "[encoded data removed]",
      "text/plain": [
       "<Figure size 432x288 with 1 Axes>"
      ]
     },
     "metadata": {},
     "output_type": "display_data"
    }
   ],
   "source": [
    "plt.plot(N[3:], Difference[3:], \"g-o\")\n",
    "plt.axhline(0)\n",
    "plt.xscale('log')\n",
    "plt.yscale('log')\n",
    "plt.xlabel('N')\n",
    "plt.ylabel('DIfference')\n",
    "plt.show()"
   ]
  }
 ],
 "metadata": {
  "kernelspec": {
   "display_name": "Python 3",
   "language": "python",
   "name": "python3"
  },
  "language_info": {
   "codemirror_mode": {
    "name": "ipython",
    "version": 3
   },
   "file_extension": ".py",
   "mimetype": "text/x-python",
   "name": "python",
   "nbconvert_exporter": "python",
   "pygments_lexer": "ipython3",
   "version": "3.6.5"
  }
 },
 "nbformat": 4,
 "nbformat_minor": 2
}
